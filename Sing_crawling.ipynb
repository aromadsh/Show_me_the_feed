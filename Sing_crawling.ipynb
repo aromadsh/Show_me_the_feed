{
 "cells": [
  {
   "cell_type": "code",
   "execution_count": null,
   "id": "5e5295bd",
   "metadata": {},
   "outputs": [],
   "source": [
    "import time\n",
    "from selenium import webdriver\n",
    "from selenium.webdriver import Keys\n",
    "from selenium.webdriver.common.by import By\n",
    "from webdriver_manager.chrome import ChromeDriverManager\n",
    "from selenium.webdriver.chrome.service import Service\n",
    "\n",
    "from bs4 import BeautifulSoup\n",
    "import clipboard"
   ]
  },
  {
   "cell_type": "code",
   "execution_count": null,
   "id": "fa165537",
   "metadata": {},
   "outputs": [],
   "source": [
    "# 각 가수별로 멜론에서 검색 가능한 페이지 수를 딕셔너리로 저장\n",
    "singer_count = {'남진' : 30, '김광석' : 10, '신해철': 6, '김창완':4, '주현미':24, '이문세':10, '심수봉':9, '송창식':9, '쎄시봉':9, '이선희':9, '나훈아': 72, '조영남': 24, '최진희': 14, '노사연': 6, '산울림': 11, '윤형주': 11, '해바라기': 13, '이장희': 7, '조항조': 6, '조용필': 18}"
   ]
  },
  {
   "cell_type": "code",
   "execution_count": null,
   "id": "1270b6d8",
   "metadata": {},
   "outputs": [],
   "source": [
    "# 각 가수별 노래 제목을 title_list 리스트에 각각의 리스트로 저장\n",
    "title_list = []\n",
    "\n",
    "chrome_options = webdriver.ChromeOptions()\n",
    "chrome_options.add_experimental_option('detach',True)\n",
    "driver = webdriver.Chrome(service=Service(ChromeDriverManager().install()),options=chrome_options)\n",
    "\n",
    "\n",
    "for index, name in enumerate(singer_count): \n",
    "    title_list.append([])\n",
    "    singer = name\n",
    "    driver.get('https://www.melon.com/search/song/index.htm?q='+singer+'&section=&searchGnbYn=Y&kkoSpl=Y&kkoDpType=&mwkLogType=T')\n",
    "    time.sleep(3)\n",
    "\n",
    "    driver.find_element(By.XPATH, '//*[@id=\"conts\"]/div[3]/div[1]/a[2]').click()\n",
    "    time.sleep(1)\n",
    "\n",
    "    html = driver.page_source\n",
    "    soup = BeautifulSoup(html, 'html.parser')\n",
    "    # 1페이지.\n",
    "    result = soup.find_all(\"a\",'fc_gray')\n",
    "\n",
    "    if len(result)>0:\n",
    "        for x in result:\n",
    "            title_list[-1].append(x['title'])\n",
    "\n",
    "    for j in range(1,int(singer_count[singer]/10) + 1):\n",
    "        # 2페이지부터 10페이지까지 크롤링\n",
    "        for i in range(1,10):\n",
    "            driver.find_element(By.XPATH, f'//*[@id=\"pageObjNavgation\"]/div/span/a[{i}]').click()\n",
    "            time.sleep(3)\n",
    "\n",
    "            html = driver.page_source\n",
    "            soup = BeautifulSoup(html, 'html.parser')\n",
    "\n",
    "            result = soup.find_all(\"a\",'fc_gray')\n",
    "            if len(result)>0:\n",
    "                for x in result:\n",
    "                    title_list[-1].append(x['title'])\n",
    "        # 다음페이지 클릭\n",
    "        driver.find_element(By.CLASS_NAME, 'btn_next').click()\n",
    "        time.sleep(2)\n",
    "\n",
    "\n",
    "print(title_list)"
   ]
  },
  {
   "cell_type": "code",
   "execution_count": null,
   "id": "9de5f264",
   "metadata": {},
   "outputs": [],
   "source": [
    "singer_name = ['남진', '김광석', '신해철', '김창완', '주현미', '이문세', '심수봉', '송창식', '쎄시봉', '이선희', '나훈아', '조영남', '최진희', '노사연', '산울림', '윤형주', '해바라기', '이장희', '조항조', '조용필'}]"
   ]
  },
  {
   "cell_type": "code",
   "execution_count": null,
   "id": "34e33ce4",
   "metadata": {},
   "outputs": [],
   "source": [
    "# 노래제목과 가사를 함께 검색했을 때 가사를 반환하는 함수\n",
    "import re\n",
    "import requests\n",
    "from bs4 import BeautifulSoup\n",
    "\n",
    "hdr={'User-Agent':'Mozilla/5.0 (Windows NT 6.3; Win64; x64) AppleWebKit/537.36 (KHTML, like Gecko) Chrome/63.0.3239.132 Safari/537.36'}\n",
    "url = 'https://www.melon.com/search/lyric/index.htm?q=낙하 악뮤&section=&searchGnbYn=Y&kkoSpl=N&kkoDpType='\n",
    "\n",
    "response = requests.get(url, headers=hdr)\n",
    "val = BeautifulSoup(response.text, 'html.parser')\n",
    "\n",
    "def get_lyrics(Q):\n",
    "    hdr={'User-Agent':'Mozilla/5.0 (Windows NT 6.3; Win64; x64) AppleWebKit/537.36 (KHTML, like Gecko) Chrome/63.0.3239.132 Safari/537.36'}\n",
    "    url = 'https://www.melon.com/search/lyric/index.htm?q='+Q+'&section=&searchGnbYn=Y&kkoSpl=N&kkoDpType='\n",
    "\n",
    "    response = requests.get(url, headers=hdr)\n",
    "    if response.status_code == 200:\n",
    "        val = response.text\n",
    "        data=\"data-song-no=\"\n",
    "        ID = val[val.find(data)+len(data)+1:val.find(data)+len(data)+13]\n",
    "\n",
    "        pattern = r\"\\d{1,13}\"\n",
    "        ID = re.findall(pattern , ID)[0]\n",
    "        print('Song ID : ' + ID)\n",
    "        \n",
    "        url2 = \"https://www.melon.com/song/detail.htm?songId=\"+str(ID)\n",
    "        response2 = requests.get(url2, headers=hdr)\n",
    "        html = requests.get(url=url2, headers=hdr).text\n",
    "        bs=BeautifulSoup(html, \"html.parser\")\n",
    "\n",
    "        soupstr=str(bs.body.find('div', class_=\"lyric\"))\n",
    "        result=re.sub(r'<!.*?->','', soupstr)\n",
    "        result=re.sub(r'<div class=\"lyric\" id=\"d_video_summary\">','', result)\n",
    "        result=re.sub(r'</div>','', result)\n",
    "        lyrics=result.replace(\"<br/>\",\"\\n\").strip()\n",
    "        \n",
    "        return lyrics\n",
    "    else : \n",
    "        return response.status_code"
   ]
  },
  {
   "cell_type": "code",
   "execution_count": null,
   "id": "f677d0d5",
   "metadata": {},
   "outputs": [],
   "source": [
    "import os"
   ]
  },
  {
   "cell_type": "code",
   "execution_count": null,
   "id": "a3bcc273",
   "metadata": {},
   "outputs": [],
   "source": [
    "# 노래가사를 받아오면 이를 텍스트파일로 저장\n",
    "for num, singer in enumerate(singer_name):\n",
    "    if not os.path.exists(singer):\n",
    "        os.mkdir(singer)\n",
    "    for song in title_list[num]:\n",
    "        try:\n",
    "            txt = get_lyrics(f'{song} {singer}')\n",
    "            file = open(f'{singer}/{song}.txt','w')\n",
    "            file.write(txt)\n",
    "            file.close()\n",
    "        except Exception:\n",
    "            pass"
   ]
  },
  {
   "cell_type": "code",
   "execution_count": null,
   "id": "be1aa68d",
   "metadata": {},
   "outputs": [],
   "source": [
    "## 각 가수의 노래 가사를 가수명.txt로 하나의 텍스트로 저장\n",
    "for singer in singer_name:\n",
    "    for song in song_list:\n",
    "        file=open(f'{singer}/{song}', 'r')\n",
    "        txt=txt + '.' + file.read()\n",
    "        file.close()\n",
    "        file=open(f'{singer}.txt', 'w')\n",
    "        file.write(txt)\n",
    "        file.close()"
   ]
  }
 ],
 "metadata": {
  "kernelspec": {
   "display_name": "Python 3 (ipykernel)",
   "language": "python",
   "name": "python3"
  },
  "language_info": {
   "codemirror_mode": {
    "name": "ipython",
    "version": 3
   },
   "file_extension": ".py",
   "mimetype": "text/x-python",
   "name": "python",
   "nbconvert_exporter": "python",
   "pygments_lexer": "ipython3",
   "version": "3.9.12"
  }
 },
 "nbformat": 4,
 "nbformat_minor": 5
}
